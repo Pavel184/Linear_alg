{
 "cells": [
  {
   "cell_type": "markdown",
   "metadata": {},
   "source": [
    "# Часть 1"
   ]
  },
  {
   "cell_type": "markdown",
   "metadata": {},
   "source": [
    "__1.__ Исследовать на линейную зависимость:\n",
    "\n",
    "$$f_{1}(x)=e^{x}, f_{2}(x)=1, f_{3}(x)=x+1, f_{4}(x)=x-e^{x}.$$"
   ]
  },
  {
   "cell_type": "markdown",
   "metadata": {},
   "source": [
    "$f_{3}(x)=f_{4}(x)+f_{1}(x)+f_{2}(x)$"
   ]
  },
  {
   "cell_type": "markdown",
   "metadata": {},
   "source": [
    "$\\alpha_{1}e^{x}+\\alpha_{2}1+\\alpha_{3}(x+1)+\\alpha_{4}(x-e^{x})=0$"
   ]
  },
  {
   "cell_type": "markdown",
   "metadata": {},
   "source": [
    "$\\alpha_{1}=1, \\alpha_{2}=1, \\alpha_{3}=-1, \\alpha_{4}=1$<br>"
   ]
  },
  {
   "cell_type": "markdown",
   "metadata": {},
   "source": [
    "Таким образом, $f_{1}(x)=e^{x}, f_{2}(x)=1, f_{3}(x)=x+1, f_{4}(x)=x-e^{x}$ линейно зависимы."
   ]
  },
  {
   "cell_type": "markdown",
   "metadata": {},
   "source": [
    "__2.__ Исследовать на линейную зависимость:\n",
    "$$f_{1}(x)=2, f_{2}(x)=x, f_{3}(x)=x^{2}, f_{4}(x)=(x+1)^{2}$$"
   ]
  },
  {
   "cell_type": "markdown",
   "metadata": {},
   "source": [
    "$f_{4}(x)=f_{3}(x)+0.5f_{1}(x)+2f_{2}(x)$"
   ]
  },
  {
   "cell_type": "markdown",
   "metadata": {},
   "source": [
    "$\\alpha_{1}2+\\alpha_{2}x+\\alpha_{3}x^{2}+\\alpha_{4}(x+1)^{2}=0$"
   ]
  },
  {
   "cell_type": "markdown",
   "metadata": {},
   "source": [
    "$\\alpha_{1}=0.5, \\alpha_{2}=2, \\alpha_{3}=1, \\alpha_{4}=-1$<br>"
   ]
  },
  {
   "cell_type": "markdown",
   "metadata": {},
   "source": [
    "Таким образом, $f_{1}(x)=2, f_{2}(x)=x, f_{3}(x)=x^{2}, f_{4}(x)=(x+1)^{2}$ линейно зависимы."
   ]
  },
  {
   "cell_type": "markdown",
   "metadata": {},
   "source": [
    "__3.__ Найти координаты вектора $x = (2, 3, 5)\\in \\mathbb{R}^{3}$ в базисе $b_{1}=(0, 0, 10)$, $b_{2}=(2, 0, 0)$, $b_{3}=(0, 1, 0)$."
   ]
  },
  {
   "cell_type": "markdown",
   "metadata": {},
   "source": [
    "$x=(0.5, 1, 3)$ координаты вектора $x = (2, 3, 5)\\in \\mathbb{R}^{3}$ в базисе $b_{1}=(0, 0, 10)$, $b_{2}=(2, 0, 0)$, $b_{3}=(0, 1, 0)$"
   ]
  },
  {
   "cell_type": "markdown",
   "metadata": {},
   "source": [
    "__4.__ Найти координаты вектора $3x^{2}-2x+2\\in\\mathbb{R}^{3}[x]$:"
   ]
  },
  {
   "cell_type": "markdown",
   "metadata": {},
   "source": [
    "а) в базисе $1$, $x$, $x^{2}$;"
   ]
  },
  {
   "cell_type": "markdown",
   "metadata": {},
   "source": [
    "Ответ: (2, -2, 3)"
   ]
  },
  {
   "cell_type": "markdown",
   "metadata": {},
   "source": [
    "б) в базисе $x^{2}$, $x-1$, $1$."
   ]
  },
  {
   "cell_type": "markdown",
   "metadata": {},
   "source": [
    "Ответ: (3, -2, 4)"
   ]
  },
  {
   "cell_type": "markdown",
   "metadata": {},
   "source": [
    "__5.__ Установить, является ли линейным подпространством:\n",
    "\n",
    "а) совокупность всех векторов трехмерного пространства, у которых по крайней мере одна из первых двух координат равна нулю;<br>\n",
    " Ответ: Да, т.к. при сложении/перемножении векторов подпространста, результат не выйдет за его пределы\n",
    "    \n",
    "б) все векторы, являющиеся линейными комбинациями данных векторов $\\{u_{1}, u_{2}, \\ldots, u_{n}\\}$.<br>\n",
    " Ответ: Да"
   ]
  },
  {
   "cell_type": "markdown",
   "metadata": {},
   "source": [
    "# Часть 2"
   ]
  },
  {
   "cell_type": "markdown",
   "metadata": {},
   "source": [
    "__1.__ Найти скалярное произведение векторов $x, y \\in \\mathbb{R}$:<br>\n",
    "а) $x=(0,-3, 6),~y=(-4, 7, 9);$<br>"
   ]
  },
  {
   "cell_type": "code",
   "execution_count": 1,
   "metadata": {},
   "outputs": [
    {
     "data": {
      "text/plain": [
       "33"
      ]
     },
     "execution_count": 1,
     "metadata": {},
     "output_type": "execute_result"
    }
   ],
   "source": [
    "# x*y=(0*(-4)+(-3)*7+6*9)=33\n",
    "import numpy as np\n",
    "x = np.array([0,-3,6])\n",
    "y = np.array([-4,7,9])\n",
    "np.dot(x,y) # = 33"
   ]
  },
  {
   "cell_type": "markdown",
   "metadata": {},
   "source": [
    "б) $x=(7, -4, 0, 1),~y=(-3, 1, 11, 2).$"
   ]
  },
  {
   "cell_type": "code",
   "execution_count": 2,
   "metadata": {},
   "outputs": [
    {
     "data": {
      "text/plain": [
       "-23"
      ]
     },
     "execution_count": 2,
     "metadata": {},
     "output_type": "execute_result"
    }
   ],
   "source": [
    "# x*y=(7*(-3)+(-4)*1+0*11+1*2)=-23\n",
    "x = np.array([7,-4,0,1])\n",
    "y = np.array([-3,1,11,2])\n",
    "np.dot(x,y) # = -23"
   ]
  },
  {
   "cell_type": "markdown",
   "metadata": {},
   "source": [
    "__2.__ Найти нормы векторов $(4, 2, 4)$ и $(12, 3, 4)$ и угол между ними."
   ]
  },
  {
   "cell_type": "code",
   "execution_count": 3,
   "metadata": {},
   "outputs": [
    {
     "name": "stdout",
     "output_type": "stream",
     "text": [
      "Евклидова норма вектора а:6.0\n",
      "Евклидова норма вектора b: 13.0\n",
      "Манхетовская норма вектора a: 10.0\n",
      "Манхетовская норма вектора b: 19.0\n",
      "Угол между векторами a b: 26.176952171666542°\n"
     ]
    }
   ],
   "source": [
    "# |a| = sqrt(4**2+2*2+4**2)=sqrt(36)=6 Евклидова норма вектора а\n",
    "# |b| = sqrt(12**2+3*2+4**2)=sqrt(169)=13 Евклидова норма вектора b\n",
    "# |a| = |4|+|2|+|4|=10 Манхетовская норма вектора a\n",
    "# |b| = |12|+|3|+|4|=19 Манхетовская норма вектора b\n",
    "# arccos((a*b)/(|a|*|b|)=arccos(35/39)~26.177°\n",
    "from numpy.linalg import norm\n",
    "import math\n",
    "a = np.array([4,2,4])\n",
    "b = np.array([12,3,4])\n",
    "print(f'Евклидова норма вектора а:{norm(a, ord=2)}')\n",
    "print(f'Евклидова норма вектора b: {norm(b, ord=2)}')\n",
    "print(f'Манхетовская норма вектора a: {norm(a, ord=1)}')\n",
    "print(f'Манхетовская норма вектора b: {norm(b, ord=1)}')\n",
    "print(f'Угол между векторами a b: {math.degrees(np.arccos(np.dot(a,b)/(norm(a, ord=2)*norm(b, ord=2))))}°')"
   ]
  },
  {
   "cell_type": "markdown",
   "metadata": {},
   "source": [
    "__3.__ Будет ли линейное пространство евклидовым, если за скалярное произведение принять:<br>\n",
    "а) произведение длин векторов;<br>\n",
    "Нет, т.к.\n",
    "$(x, y) = \\left|x\\right|\\cdot\\left|y\\right|\\cdot cos\\alpha.$<br>\n",
    "б) утроенное обычное скалярное произведение векторов?<br>\n",
    "Несовсем понятно что имеется ввиду под \"обычное скалярное произведение векторов\"<br>\n",
    "Но думаю, что ответ - Да, т.к. выполняются все аксиомы"
   ]
  },
  {
   "cell_type": "markdown",
   "metadata": {},
   "source": [
    "__4.__ Какие из нижеперечисленных векторов образуют ортонормированный базис в линейном пространстве $\\mathbb{R}^{3}$:<br>\n",
    "а) $(1,0,0),(0,0,1);$ <br>\n",
    "б) $(1/\\sqrt{2},-1/\\sqrt{2},0),(1/\\sqrt{2},1/\\sqrt{2},0), (0,0,1);$<br>\n",
    "в) $(1/2, -1/2, 0), (0, 1/2, 1/2), (0,0,1);$<br>\n",
    "г) $(1,0,0),(0,1,0),(0,0,1)?$ "
   ]
  },
  {
   "cell_type": "code",
   "execution_count": 4,
   "metadata": {},
   "outputs": [],
   "source": [
    "# а) Нет 3го вектора. Не является ортонормированным базисом"
   ]
  },
  {
   "cell_type": "code",
   "execution_count": 5,
   "metadata": {},
   "outputs": [
    {
     "name": "stdout",
     "output_type": "stream",
     "text": [
      "(a1,a2) = 0.0, (a1,a3) = 0.0, (a2,a3) = 0.0\n",
      "norm_a1 = 1.0, norm_a2 = 1.0, norm_a3 = 1.0\n"
     ]
    }
   ],
   "source": [
    "# б) Является ортонормированным базисом\n",
    "a1 = np.array([2**(-0.5),-2**(-0.5),0])\n",
    "a2 = np.array([2**(-0.5),2**(-0.5),0])\n",
    "a3 = np.array([0,0,1])\n",
    "print(f'(a1,a2) = {np.dot(a1,a2)}, (a1,a3) = {np.dot(a1,a3)}, (a2,a3) = {np.dot(a2,a3)}')\n",
    "print(f'norm_a1 = {norm(a1, ord=2)}, norm_a2 = {norm(a2, ord=2)}, norm_a3 = {norm(a3, ord=2)}')"
   ]
  },
  {
   "cell_type": "code",
   "execution_count": 6,
   "metadata": {},
   "outputs": [
    {
     "name": "stdout",
     "output_type": "stream",
     "text": [
      "(a1,a2) = -0.25, (a1,a3) = 0.0, (a2,a3) = 0.5\n",
      "norm_a1 = 0.7071067811865476, norm_a2 = 0.7071067811865476, norm_a3 = 1.0\n"
     ]
    }
   ],
   "source": [
    "# в) Не является ортонормированным базисом\n",
    "a1 = np.array([0.5,-0.5,0])\n",
    "a2 = np.array([0,0.5,0.5])\n",
    "a3 = np.array([0,0,1])\n",
    "print(f'(a1,a2) = {np.dot(a1,a2)}, (a1,a3) = {np.dot(a1,a3)}, (a2,a3) = {np.dot(a2,a3)}')\n",
    "print(f'norm_a1 = {norm(a1, ord=2)}, norm_a2 = {norm(a2, ord=2)}, norm_a3 = {norm(a3, ord=2)}')"
   ]
  },
  {
   "cell_type": "code",
   "execution_count": 7,
   "metadata": {},
   "outputs": [
    {
     "name": "stdout",
     "output_type": "stream",
     "text": [
      "(a1,a2) = 0, (a1,a3) = 0, (a2,a3) = 0\n",
      "norm_a1 = 1.0, norm_a2 = 1.0, norm_a3 = 1.0\n"
     ]
    }
   ],
   "source": [
    "# г) Является ортонормированным базисом\n",
    "a1 = np.array([1,0,0])\n",
    "a2 = np.array([0,1,0])\n",
    "a3 = np.array([0,0,1])\n",
    "print(f'(a1,a2) = {np.dot(a1,a2)}, (a1,a3) = {np.dot(a1,a3)}, (a2,a3) = {np.dot(a2,a3)}')\n",
    "print(f'norm_a1 = {norm(a1, ord=2)}, norm_a2 = {norm(a2, ord=2)}, norm_a3 = {norm(a3, ord=2)}')"
   ]
  }
 ],
 "metadata": {
  "kernelspec": {
   "display_name": "Python 3",
   "language": "python",
   "name": "python3"
  },
  "language_info": {
   "codemirror_mode": {
    "name": "ipython",
    "version": 3
   },
   "file_extension": ".py",
   "mimetype": "text/x-python",
   "name": "python",
   "nbconvert_exporter": "python",
   "pygments_lexer": "ipython3",
   "version": "3.8.3"
  }
 },
 "nbformat": 4,
 "nbformat_minor": 4
}
