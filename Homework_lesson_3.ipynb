{
 "cells": [
  {
   "cell_type": "markdown",
   "metadata": {},
   "source": [
    "__1.__ Найти собственные векторы и собственные значения для линейного оператора, заданного матрицей\n",
    "\n",
    "$$A=\\begin{pmatrix}\n",
    "-1 & -6\\\\ \n",
    "2 & 6\n",
    "\\end{pmatrix}.$$"
   ]
  },
  {
   "cell_type": "markdown",
   "metadata": {},
   "source": [
    "$\\begin{vmatrix}\n",
    "-1-\\lambda & -6\\\\ \n",
    "2 & 6-\\lambda\n",
    "\\end{vmatrix}=0$<br><br>\n",
    "$(-1-\\lambda)*(6-\\lambda)=0$<br><br>\n",
    "$\\lambda^2-5\\lambda+6=0$<br><br>\n",
    "$\\begin{cases}\n",
    "\\lambda=2 \\\\\n",
    "\\lambda=3\n",
    "\\end{cases}$<br><br>\n",
    "Подставляем в уравнение лямбда равное 2<br><br>\n",
    "$\\begin{cases}\n",
    "x_{1}=-2x_{2} \\\\\n",
    "x_{2}=x_{2}\n",
    "\\end{cases}$<br><br>\n",
    "Подставляем в уравнение лямбда равное 3<br><br>\n",
    "$\\begin{cases}\n",
    "x_{1}=-\\frac{3}{2}x_{2} \\\\\n",
    "x_{2} = x_{2}\n",
    "\\end{cases}$<br><br>\n",
    "$(-2x,x)$ является собст. вектором при $\\lambda=2$<br><br>\n",
    "$(-\\frac{3}{2}x,x)$ является собст. вектором при $\\lambda=3$<br><br>\n",
    "где x это любое число"
   ]
  },
  {
   "cell_type": "code",
   "execution_count": 1,
   "metadata": {},
   "outputs": [],
   "source": [
    "import numpy as np\n",
    "\n",
    "np.set_printoptions(precision=2, suppress=True)"
   ]
  },
  {
   "cell_type": "code",
   "execution_count": 2,
   "metadata": {},
   "outputs": [
    {
     "name": "stdout",
     "output_type": "stream",
     "text": [
      "Матрица A:\n",
      "[[-1 -6]\n",
      " [ 2  6]]\n",
      "Собственные значения:\n",
      "[2. 3.]\n",
      "Собственные векторы:\n",
      "[[-0.89  0.83]\n",
      " [ 0.45 -0.55]]\n"
     ]
    }
   ],
   "source": [
    "a = np.array([[-1, -6], [2, 6]])\n",
    "w, v = np.linalg.eig(a)\n",
    " \n",
    "print(f'Матрица A:\\n{a}')\n",
    "print(f'Собственные значения:\\n{w}')\n",
    "print(f'Собственные векторы:\\n{v}')"
   ]
  },
  {
   "cell_type": "markdown",
   "metadata": {},
   "source": [
    "__2.__ Дан оператор поворота на 180 градусов, задаваемый матрицей \n",
    "\n",
    "$$A=\\begin{pmatrix}\n",
    "-1 & 0\\\\ \n",
    "0 & -1\n",
    "\\end{pmatrix}.$$\n",
    "\n",
    "Показать, что __любой__ вектор является для него собственным.<br><br>\n",
    "Любой вектор, развёрнутый на угол 180 градусов, является к исходному коллинеарным, соответственно будет являться собственным"
   ]
  },
  {
   "cell_type": "markdown",
   "metadata": {},
   "source": [
    "$\\begin{vmatrix}\n",
    "-1-\\lambda & 0\\\\ \n",
    "0 & -1-\\lambda\n",
    "\\end{vmatrix}=0$<br><br>\n",
    "$(-1-\\lambda)*(-1-\\lambda)=0$<br><br>\n",
    "$\\begin{cases}\n",
    "\\lambda=-1 \\\\\n",
    "\\lambda=-1\n",
    "\\end{cases}$<br><br>\n",
    "Подставляем в уравнение лямбда равное -1<br><br>\n",
    "$\\begin{cases}\n",
    "x_{1}=-x_{1} \\\\\n",
    "x_{2}=-x_{2}\n",
    "\\end{cases}$<br><br>\n",
    "т.к. $x_{1}$ и  $x_{2}$ могут принимать любое значение, то любой вектор является собственным для данного оператора"
   ]
  },
  {
   "cell_type": "markdown",
   "metadata": {},
   "source": [
    "__3.__ Пусть линейный оператор задан матрицей\n",
    "\n",
    "$$A=\\begin{pmatrix}\n",
    "1 & 1\\\\ \n",
    "-1 & 3\n",
    "\\end{pmatrix}.$$\n",
    "\n",
    "Установить, является ли вектор $x=(1,1)$ собственным вектором этого линейного оператора."
   ]
  },
  {
   "cell_type": "markdown",
   "metadata": {},
   "source": [
    "$\\begin{cases}\n",
    "1+1=\\lambda \\\\\n",
    "-1+3=\\lambda\n",
    "\\end{cases}$<br><br>\n",
    "$\\begin{cases}\n",
    "\\lambda=2 \\\\\n",
    "\\lambda=2\n",
    "\\end{cases}$<br><br>\n",
    "Ответ: вектор  𝑥=(1,1) является собственным вектором этого линейного оператора при лямбда равное 2"
   ]
  }
 ],
 "metadata": {
  "kernelspec": {
   "display_name": "Python 3",
   "language": "python",
   "name": "python3"
  },
  "language_info": {
   "codemirror_mode": {
    "name": "ipython",
    "version": 3
   },
   "file_extension": ".py",
   "mimetype": "text/x-python",
   "name": "python",
   "nbconvert_exporter": "python",
   "pygments_lexer": "ipython3",
   "version": "3.8.3"
  }
 },
 "nbformat": 4,
 "nbformat_minor": 4
}
